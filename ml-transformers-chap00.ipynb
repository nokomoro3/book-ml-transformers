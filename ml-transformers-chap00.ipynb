{
  "cells": [
    {
      "cell_type": "markdown",
      "metadata": {
        "id": "view-in-github",
        "colab_type": "text"
      },
      "source": [
        "<a href=\"https://colab.research.google.com/github/nokomoro3/book-ml-transformers/blob/main/ml-transformers-chap00.ipynb\" target=\"_parent\"><img src=\"https://colab.research.google.com/assets/colab-badge.svg\" alt=\"Open In Colab\"/></a>"
      ]
    },
    {
      "cell_type": "markdown",
      "metadata": {
        "id": "j6gyizVrqwj6"
      },
      "source": [
        "# 0章"
      ]
    },
    {
      "cell_type": "markdown",
      "source": [
        "## 序文\n",
        "\n",
        "- Hugging Faceの貢献について記載"
      ],
      "metadata": {
        "id": "ImHrpy-uq1S2"
      }
    },
    {
      "cell_type": "markdown",
      "source": [
        "## 前書き"
      ],
      "metadata": {
        "id": "wRsyFvthq3Lv"
      }
    },
    {
      "cell_type": "markdown",
      "source": [
        "### TransformerとTransformers\n",
        "\n",
        "- Transformerはデファクトであり、気づかないうちに使用している\n",
        "  - Googleの検索は、BERTが使用されている\n",
        "  - OpenAIのGPT系のモデル\n",
        "  - GitHub Copilotのようなアプリケーション\n",
        "- Transformerとは\n",
        "  - 実際はAttention、Transfer Learning、ネットワークのスケールアップなどの既存アイディアの組み合わせ\n",
        "- Transformersライブラリ\n",
        "  - 簡単に学習・共有できるようにすることで、普及に貢献"
      ],
      "metadata": {
        "id": "42p36rMhq419"
      }
    },
    {
      "cell_type": "markdown",
      "source": [
        "### 本書の基礎となる資料\n",
        "\n",
        "- 基礎をおさえたい場合は以下を参照すること\n",
        "  - 『scikit-learn、Keras、TensorFlow による実践機械学習第2 版』（オライリー・ジャパン）\n",
        "  - 『PyTorch とfastai ではじめるディープラーニング』（オライリー・ジャパン）\n",
        "  - 『Natural Language Processing with PyTorch』（O’Reilly Media）\n",
        "  - Hugging Face のオープンソースチームによるコース（[https://huggingface.co/course/chapter1/1](https://huggingface.co/course/chapter1/1)）"
      ],
      "metadata": {
        "id": "4pNPV1teq6cz"
      }
    },
    {
      "cell_type": "markdown",
      "source": [
        "### 本書の対象\n",
        "\n",
        "- 本書は理論は必要な部分のみで、アプリケーション構築など実践部分に焦点を当てている。"
      ],
      "metadata": {
        "id": "E_MFlaTMq8FN"
      }
    },
    {
      "cell_type": "markdown",
      "source": [
        "### 実行環境\n",
        "\n",
        "- Colab、Kagge Notebook以外に、paperspaceというものも紹介されている\n",
        "  - paperspaceはどうやら完全な従量課金っぽい\n",
        "- GitHubは以下\n",
        "    - [https://github.com/nlp-with-transformers/notebooks](https://github.com/nlp-with-transformers/notebooks)\n",
        "- 著者はP100で動作確認しているので、Colab Proであればたぶん事足りる\n",
        "- それより低スペックの場合、バッチサイズを小さくするなどが必要"
      ],
      "metadata": {
        "id": "gbBYXkwkq9bO"
      }
    }
  ],
  "metadata": {
    "colab": {
      "provenance": [],
      "toc_visible": true,
      "include_colab_link": true
    },
    "kernelspec": {
      "display_name": "Python 3.9.7 64-bit ('3.9.7')",
      "language": "python",
      "name": "python3"
    },
    "language_info": {
      "name": "python",
      "version": "3.9.7"
    },
    "orig_nbformat": 4,
    "vscode": {
      "interpreter": {
        "hash": "3949dca9ef5ee3d00faebebd640170151a9deedee36f4a22f588f089137dbd92"
      }
    }
  },
  "nbformat": 4,
  "nbformat_minor": 0
}