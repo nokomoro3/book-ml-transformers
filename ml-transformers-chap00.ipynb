{
  "cells": [
    {
      "cell_type": "markdown",
      "metadata": {
        "colab_type": "text",
        "id": "view-in-github"
      },
      "source": [
        "<a href=\"https://colab.research.google.com/github/nokomoro3/book-ml-transformers/blob/main/ml-transformers-chap00.ipynb\" target=\"_parent\"><img src=\"https://colab.research.google.com/assets/colab-badge.svg\" alt=\"Open In Colab\"/></a>"
      ]
    },
    {
      "cell_type": "code",
      "execution_count": null,
      "metadata": {
        "colab": {
          "base_uri": "https://localhost:8080/"
        },
        "id": "jDFMN2tLRa_b",
        "outputId": "3b10f245-07bd-4b99-8cb4-1f6260dc41b3"
      },
      "outputs": [
        {
          "name": "stdout",
          "output_type": "stream",
          "text": [
            "start  : 2022-09-04T11:27:33.953951+09:00\n"
          ]
        }
      ],
      "source": [
        "import datetime\n",
        "from dateutil import tz\n",
        "\n",
        "start_datetime = datetime.datetime.now().astimezone(tz.gettz('Asia/Tokyo'))\n",
        "print(f\"start  : {start_datetime.isoformat()}\")"
      ]
    },
    {
      "cell_type": "markdown",
      "metadata": {
        "id": "shgrpUo3UgLh"
      },
      "source": [
        "- System Specs\n",
        "  - https://colab.research.google.com/drive/151805XTDg--dgHb3-AXJCpnWaqRhop_2"
      ]
    },
    {
      "cell_type": "code",
      "execution_count": null,
      "metadata": {
        "colab": {
          "base_uri": "https://localhost:8080/"
        },
        "id": "M2qiRSagSHSk",
        "outputId": "fc185266-8b07-4c77-a343-12d69285024a"
      },
      "outputs": [
        {
          "name": "stdout",
          "output_type": "stream",
          "text": [
            "\"Ubuntu 18.04.6 LTS\"\n"
          ]
        }
      ],
      "source": [
        "!cat /etc/os-release | grep \"PRETTY_NAME\" | awk -F\"=\" '{print $2}'"
      ]
    },
    {
      "cell_type": "code",
      "execution_count": null,
      "metadata": {
        "colab": {
          "base_uri": "https://localhost:8080/"
        },
        "id": "voPDVPp4SxmX",
        "outputId": "bf6ca5a3-afdb-4c31-a180-3da770aed752"
      },
      "outputs": [
        {
          "data": {
            "text/plain": [
              "['GPU 0: Tesla P100-PCIE-16GB (UUID: GPU-3a586ff5-2139-32ab-8627-09659cf06d43)']"
            ]
          },
          "metadata": {},
          "output_type": "display_data"
        }
      ],
      "source": [
        "!!nvidia-smi -L"
      ]
    },
    {
      "cell_type": "code",
      "execution_count": null,
      "metadata": {
        "colab": {
          "base_uri": "https://localhost:8080/"
        },
        "id": "yqSAwPb4UWRe",
        "outputId": "1e86e04b-15d4-4f4a-fc57-c4de8d60a1ee"
      },
      "outputs": [
        {
          "name": "stdout",
          "output_type": "stream",
          "text": [
            "26G\n"
          ]
        }
      ],
      "source": [
        "!free -h --si | awk  '/Mem:/{print $2}'"
      ]
    },
    {
      "cell_type": "markdown",
      "metadata": {
        "id": "j6gyizVrqwj6"
      },
      "source": [
        "# 0章"
      ]
    },
    {
      "cell_type": "markdown",
      "metadata": {
        "id": "ImHrpy-uq1S2"
      },
      "source": [
        "## 序文\n",
        "\n",
        "- Hugging Faceの貢献について記載"
      ]
    },
    {
      "cell_type": "markdown",
      "metadata": {
        "id": "wRsyFvthq3Lv"
      },
      "source": [
        "## 前書き"
      ]
    },
    {
      "cell_type": "markdown",
      "metadata": {
        "id": "42p36rMhq419"
      },
      "source": [
        "### TransformerとTransformers\n",
        "\n",
        "- Transformerはデファクトであり、気づかないうちに使用している\n",
        "  - Googleの検索は、BERTが使用されている\n",
        "  - OpenAIのGPT系のモデル\n",
        "  - GitHub Copilotのようなアプリケーション\n",
        "- Transformerとは\n",
        "  - 実際はAttention、Transfer Learning、ネットワークのスケールアップなどの既存アイディアの組み合わせ\n",
        "- Transformersライブラリ\n",
        "  - 簡単に学習・共有できるようにすることで、普及に貢献"
      ]
    },
    {
      "cell_type": "markdown",
      "metadata": {
        "id": "4pNPV1teq6cz"
      },
      "source": [
        "### 本書の基礎となる資料\n",
        "\n",
        "- 基礎をおさえたい場合は以下を参照すること\n",
        "  - 『scikit-learn、Keras、TensorFlow による実践機械学習第2 版』（オライリー・ジャパン）\n",
        "  - 『PyTorch とfastai ではじめるディープラーニング』（オライリー・ジャパン）\n",
        "  - 『Natural Language Processing with PyTorch』（O’Reilly Media）\n",
        "  - Hugging Face のオープンソースチームによるコース（[https://huggingface.co/course/chapter1/1](https://huggingface.co/course/chapter1/1)）"
      ]
    },
    {
      "cell_type": "markdown",
      "metadata": {
        "id": "E_MFlaTMq8FN"
      },
      "source": [
        "### 本書の対象\n",
        "\n",
        "- 本書は理論は必要な部分のみで、アプリケーション構築など実践部分に焦点を当てている。"
      ]
    },
    {
      "cell_type": "markdown",
      "metadata": {
        "id": "gbBYXkwkq9bO"
      },
      "source": [
        "### 実行環境\n",
        "\n",
        "- Colab、Kagge Notebook以外に、paperspaceというものも紹介されている\n",
        "  - paperspaceはどうやら完全な従量課金っぽい\n",
        "- GitHubは以下\n",
        "    - [https://github.com/nlp-with-transformers/notebooks](https://github.com/nlp-with-transformers/notebooks)\n",
        "- 著者はP100で動作確認しているので、Colab Proであればたぶん事足りる\n",
        "- それより低スペックの場合、バッチサイズを小さくするなどが必要"
      ]
    },
    {
      "cell_type": "code",
      "execution_count": null,
      "metadata": {
        "colab": {
          "base_uri": "https://localhost:8080/"
        },
        "id": "p8t86v9dP1op",
        "outputId": "40a6e32e-57b5-4b82-954a-a5b6acd02c65"
      },
      "outputs": [
        {
          "name": "stdout",
          "output_type": "stream",
          "text": [
            "start  : 2022-09-04T11:27:33.953951+09:00\n",
            "end    : 2022-09-04T11:57:31.337848+09:00\n",
            "elapsed: 0:29:57.383897\n"
          ]
        }
      ],
      "source": [
        "import datetime\n",
        "from dateutil import tz\n",
        "\n",
        "end_datetime = datetime.datetime.now().astimezone(tz.gettz('Asia/Tokyo'))\n",
        "print(f\"start  : {start_datetime.isoformat()}\")\n",
        "print(f\"end    : {end_datetime.isoformat()}\")\n",
        "print(f\"elapsed: {end_datetime - start_datetime}\")"
      ]
    }
  ],
  "metadata": {
    "colab": {
      "include_colab_link": true,
      "provenance": [],
      "toc_visible": true
    },
    "kernelspec": {
      "display_name": "Python 3.9.7 64-bit ('3.9.7')",
      "language": "python",
      "name": "python3"
    },
    "language_info": {
      "name": "python",
      "version": "3.9.7"
    },
    "orig_nbformat": 4,
    "vscode": {
      "interpreter": {
        "hash": "3949dca9ef5ee3d00faebebd640170151a9deedee36f4a22f588f089137dbd92"
      }
    }
  },
  "nbformat": 4,
  "nbformat_minor": 0
}
