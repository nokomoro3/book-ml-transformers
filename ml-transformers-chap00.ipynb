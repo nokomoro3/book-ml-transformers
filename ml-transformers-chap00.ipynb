{
  "cells": [
    {
      "cell_type": "markdown",
      "metadata": {
        "id": "view-in-github",
        "colab_type": "text"
      },
      "source": [
        "<a href=\"https://colab.research.google.com/github/nokomoro3/book-ml-transformers/blob/main/ml-transformers-chap00.ipynb\" target=\"_parent\"><img src=\"https://colab.research.google.com/assets/colab-badge.svg\" alt=\"Open In Colab\"/></a>"
      ]
    },
    {
      "cell_type": "code",
      "execution_count": 1,
      "metadata": {
        "colab": {
          "base_uri": "https://localhost:8080/"
        },
        "id": "jDFMN2tLRa_b",
        "outputId": "08094816-0c43-4075-b3d5-bcaa67774edc"
      },
      "outputs": [
        {
          "output_type": "stream",
          "name": "stdout",
          "text": [
            "start  : 2022-09-04T12:08:43.661299+09:00\n"
          ]
        }
      ],
      "source": [
        "import datetime\n",
        "from dateutil import tz\n",
        "\n",
        "start_datetime = datetime.datetime.now().astimezone(tz.gettz('Asia/Tokyo'))\n",
        "print(f\"start  : {start_datetime.isoformat()}\")"
      ]
    },
    {
      "cell_type": "markdown",
      "metadata": {
        "id": "shgrpUo3UgLh"
      },
      "source": [
        "- System Specs\n",
        "  - https://colab.research.google.com/drive/151805XTDg--dgHb3-AXJCpnWaqRhop_2"
      ]
    },
    {
      "cell_type": "code",
      "execution_count": 2,
      "metadata": {
        "colab": {
          "base_uri": "https://localhost:8080/"
        },
        "id": "M2qiRSagSHSk",
        "outputId": "31a1b6c3-330c-4368-a241-4a2027629cf4"
      },
      "outputs": [
        {
          "output_type": "stream",
          "name": "stdout",
          "text": [
            "\"Ubuntu 18.04.6 LTS\"\n"
          ]
        }
      ],
      "source": [
        "!cat /etc/os-release | grep \"PRETTY_NAME\" | awk -F\"=\" '{print $2}'"
      ]
    },
    {
      "cell_type": "code",
      "execution_count": 3,
      "metadata": {
        "colab": {
          "base_uri": "https://localhost:8080/"
        },
        "id": "voPDVPp4SxmX",
        "outputId": "68cf1d7c-99ab-41f3-f9b6-d32780593c1b"
      },
      "outputs": [
        {
          "output_type": "execute_result",
          "data": {
            "text/plain": [
              "[\"NVIDIA-SMI has failed because it couldn't communicate with the NVIDIA driver. Make sure that the latest NVIDIA driver is installed and running.\",\n",
              " '']"
            ]
          },
          "metadata": {},
          "execution_count": 3
        }
      ],
      "source": [
        "!!nvidia-smi -L"
      ]
    },
    {
      "cell_type": "code",
      "execution_count": 4,
      "metadata": {
        "colab": {
          "base_uri": "https://localhost:8080/"
        },
        "id": "yqSAwPb4UWRe",
        "outputId": "6286345a-3817-476e-83a6-0eb179d158e6"
      },
      "outputs": [
        {
          "output_type": "stream",
          "name": "stdout",
          "text": [
            "13G\n"
          ]
        }
      ],
      "source": [
        "!free -h --si | awk  '/Mem:/{print $2}'"
      ]
    },
    {
      "cell_type": "markdown",
      "metadata": {
        "id": "j6gyizVrqwj6"
      },
      "source": [
        "# 0章"
      ]
    },
    {
      "cell_type": "markdown",
      "metadata": {
        "id": "ImHrpy-uq1S2"
      },
      "source": [
        "## 序文\n",
        "\n",
        "- Hugging Faceの貢献について記載"
      ]
    },
    {
      "cell_type": "markdown",
      "metadata": {
        "id": "wRsyFvthq3Lv"
      },
      "source": [
        "## 前書き"
      ]
    },
    {
      "cell_type": "markdown",
      "metadata": {
        "id": "42p36rMhq419"
      },
      "source": [
        "### TransformerとTransformers\n",
        "\n",
        "- Transformerはデファクトであり、気づかないうちに使用している\n",
        "  - Googleの検索は、BERTが使用されている\n",
        "  - OpenAIのGPT系のモデル\n",
        "  - GitHub Copilotのようなアプリケーション\n",
        "- Transformerとは\n",
        "  - 実際はAttention、Transfer Learning、ネットワークのスケールアップなどの既存アイディアの組み合わせ\n",
        "- Transformersライブラリ\n",
        "  - 簡単に学習・共有できるようにすることで、普及に貢献"
      ]
    },
    {
      "cell_type": "markdown",
      "metadata": {
        "id": "4pNPV1teq6cz"
      },
      "source": [
        "### 本書の基礎となる資料\n",
        "\n",
        "- 基礎をおさえたい場合は以下を参照すること\n",
        "  - 『scikit-learn、Keras、TensorFlow による実践機械学習第2 版』（オライリー・ジャパン）\n",
        "  - 『PyTorch とfastai ではじめるディープラーニング』（オライリー・ジャパン）\n",
        "  - 『Natural Language Processing with PyTorch』（O’Reilly Media）\n",
        "  - Hugging Face のオープンソースチームによるコース（[https://huggingface.co/course/chapter1/1](https://huggingface.co/course/chapter1/1)）"
      ]
    },
    {
      "cell_type": "markdown",
      "metadata": {
        "id": "E_MFlaTMq8FN"
      },
      "source": [
        "### 本書の対象\n",
        "\n",
        "- 本書は理論は必要な部分のみで、アプリケーション構築など実践部分に焦点を当てている。"
      ]
    },
    {
      "cell_type": "markdown",
      "metadata": {
        "id": "gbBYXkwkq9bO"
      },
      "source": [
        "### 実行環境\n",
        "\n",
        "- Colab、Kagge Notebook以外に、paperspaceというものも紹介されている\n",
        "  - paperspaceはどうやら完全な従量課金っぽい\n",
        "- GitHubは以下\n",
        "    - [https://github.com/nlp-with-transformers/notebooks](https://github.com/nlp-with-transformers/notebooks)\n",
        "- 著者はP100で動作確認しているので、Colab Proであればたぶん事足りる\n",
        "- それより低スペックの場合、バッチサイズを小さくするなどが必要"
      ]
    },
    {
      "cell_type": "code",
      "execution_count": 5,
      "metadata": {
        "colab": {
          "base_uri": "https://localhost:8080/"
        },
        "id": "p8t86v9dP1op",
        "outputId": "6f95bae1-4c67-4df1-a813-24a8fca6981a"
      },
      "outputs": [
        {
          "output_type": "stream",
          "name": "stdout",
          "text": [
            "start  : 2022-09-04T12:08:43.661299+09:00\n",
            "end    : 2022-09-04T12:08:44.118327+09:00\n",
            "elapsed: 0:00:00.457028\n"
          ]
        }
      ],
      "source": [
        "import datetime\n",
        "from dateutil import tz\n",
        "\n",
        "end_datetime = datetime.datetime.now().astimezone(tz.gettz('Asia/Tokyo'))\n",
        "print(f\"start  : {start_datetime.isoformat()}\")\n",
        "print(f\"end    : {end_datetime.isoformat()}\")\n",
        "print(f\"elapsed: {end_datetime - start_datetime}\")"
      ]
    }
  ],
  "metadata": {
    "colab": {
      "provenance": [],
      "toc_visible": true,
      "include_colab_link": true
    },
    "kernelspec": {
      "display_name": "Python 3.9.7 64-bit ('3.9.7')",
      "language": "python",
      "name": "python3"
    },
    "language_info": {
      "name": "python",
      "version": "3.9.7"
    },
    "orig_nbformat": 4,
    "vscode": {
      "interpreter": {
        "hash": "3949dca9ef5ee3d00faebebd640170151a9deedee36f4a22f588f089137dbd92"
      }
    }
  },
  "nbformat": 4,
  "nbformat_minor": 0
}