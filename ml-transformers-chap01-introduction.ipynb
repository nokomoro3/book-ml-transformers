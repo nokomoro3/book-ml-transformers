{
  "cells": [
    {
      "cell_type": "markdown",
      "metadata": {
        "id": "view-in-github",
        "colab_type": "text"
      },
      "source": [
        "<a href=\"https://colab.research.google.com/github/nokomoro3/book-ml-transformers/blob/main/ml-transformers-chap01-introduction.ipynb\" target=\"_parent\"><img src=\"https://colab.research.google.com/assets/colab-badge.svg\" alt=\"Open In Colab\"/></a>"
      ]
    },
    {
      "cell_type": "markdown",
      "metadata": {
        "id": "xooQEdfrjo5d"
      },
      "source": [
        "# 入門Transformers\n",
        "\n",
        "- TransformerとULMFiTの２つの登場がきっかけ\n",
        "- これにより、Transformerと教師なし学習を組み合わせることで、BERTやGPTが生まれた\n",
        "\n",
        "![](https://github.com/nokomoro3/book-ml-transformers/blob/main/img/ml-transformers-chap01-introduction_2022-08-28-12-56-11.png?raw=1)\n",
        "\n",
        "- 重要なポイントは以下\n",
        "  - Encoder-Decoder\n",
        "  - Attention\n",
        "  - Transfer Learning"
      ]
    },
    {
      "cell_type": "markdown",
      "metadata": {
        "id": "O1INphHgrwja"
      },
      "source": [
        "## 1.1 エンコーダ・デコーダのフレームワーク\n",
        "\n",
        "- 最初はRNNを使ったEncoder-Decoderモデル\n",
        "- Encoderの役割\n",
        "  - 入力系列を最後の隠れ状態という数値表現にエンコードする\n",
        "- Decoderの役割\n",
        "  - エンコード結果から出力系列を生成する\n",
        "\n",
        "![](https://github.com/nokomoro3/book-ml-transformers/blob/main/img/ml-transformers-chap01-introduction_2022-08-28-12-57-42.png?raw=1)\n",
        "\n",
        "- Encoder-Decoderの弱点\n",
        "  - この最後の隠れ状態が情報のボトルネックとなる\n",
        "  - 入力全体の意味を表す必要がある\n",
        "  - しかし実際は、系列が長い場合は意味を表現するのが難しい\n",
        "  - Attentionでは、DecoderがEncoderのすべての隠れ状態にアクセスすることでこのボトルネックを解消する"
      ]
    },
    {
      "cell_type": "markdown",
      "metadata": {
        "id": "rGhmL-ALrwjb"
      },
      "source": [
        "## 1.2 アテンション機構\n",
        "\n",
        "- アテンションの仕組み\n",
        "  - Encoderのすべての時刻の状態を使用する\n",
        "  - Decoderの時刻に応じて異なる重みで、Encoderの各時刻の状態を混ぜる\n",
        "  - この重みをAttentionと呼ぶ\n",
        "\n",
        "![](https://github.com/nokomoro3/book-ml-transformers/blob/main/img/ml-transformers-chap01-introduction_2022-08-28-13-00-18.png?raw=1)\n",
        "\n",
        "- Attentionの弱点\n",
        "  - 逐次計算が必要なため入力系列全体で並列化できない\n",
        "\n",
        "- Self-Attention(Transformer)の特徴\n",
        "  - RNNによる再帰性を完全に排除\n",
        "  - Encoder、Decoderのそれぞれの内に閉じたAttention機構を実装\n",
        "  - これが『Attention is all you need』という論文\n",
        "\n",
        "![](https://github.com/nokomoro3/book-ml-transformers/blob/main/img/ml-transformers-chap01-introduction_2022-08-28-13-00-36.png?raw=1)\n",
        "\n",
        "- Transformerの課題\n",
        "  - 翻訳の大規模コーパスを用いてゼロから学習している\n",
        "  - 実用的には、大量のラベル付きデータは使えないため、タスクが限定されてしまう。"
      ]
    },
    {
      "cell_type": "markdown",
      "metadata": {
        "id": "rB2JEKSWrwjb"
      },
      "source": [
        "## 1.3 NLPにおける転移学習\n",
        "\n",
        "- 画像の場合\n",
        "  - body（backbone）をImageNetで学習\n",
        "  - headをタスクに特化したものとして、fine-tuningするのが一般的\n",
        "\n",
        "- NLPの場合\n",
        "  - 長年、NLPでどうすべきかという標準的なアプローチが明らかではなかった\n",
        "  - 2017年～2018年でようやく明らかになってきた\n",
        "  - きっかけはOpenAIの研究\n",
        "    - [https://arxiv.org/abs/1704.01444](https://arxiv.org/abs/1704.01444)\n",
        "  - 教師なしの事前学習から抽出した特徴を使用して、センチメント分類タスクで高性能を達成\n",
        "  - その後、ULMFiTが登場し、事前学習済みのLSTMモデルを適応させるフレームワークを導入した\n",
        "  - 関連研究としてELMoなどもある\n",
        "    - ELMoでは、LSTMを次元学習し、下流タスクで使える高品質な単語埋め込みの生成が可能\n",
        "\n",
        "- UMLFiTとは\n",
        "  - 事前学習\n",
        "      - 出現済みの単語から次の単語を予測するタスクを学習\n",
        "      - 言語モデルとも呼ばれる\n",
        "      - ラベル付きデータが不要なところがポイント\n",
        "      - Wikipediaなどで学習\n",
        "  - ドメイン適応\n",
        "    - 例えば、IMDbコーパスに適応させる\n",
        "    - その場合、IMDbのコーパスの次の単語予測を学習し、言語モデルを更新する\n",
        "      - なので解く問題自体は事前学習と同じ\n",
        "  - ファインチューニング\n",
        "    - ターゲットタスク（IMDbのセンチメント分類）向けの分類層と言語モデルを同時に学習する\n",
        "  - これが転移学習のフレームワークとして一般的に使用されることになる\n",
        "\n",
        "- BERT, GPTへ\n",
        "  - Transformerと転移学習を組み合わせたものとしてBERTとGPTがリリースされた\n",
        "\n",
        "- GPT\n",
        "  - Transformerのデコーダ部分のみを使用し、UMLFiTと同じ言語モデルアプローチを使用\n",
        "  - 7000冊の未発表書籍からなるBookCorpusで事前学習されている\n",
        "\n",
        "- BERT\n",
        "  - Transformerのエンコーダ部分と、マスク言語モデルと呼ばれる特殊な言語モデルを使用\n",
        "  - マスク言語モデル\n",
        "      - テキスト中のランダムにマスクされた単語を予測する\n",
        "  - BookCorpusと英語版wikipediaで事前学習されている\n",
        "\n",
        "- 以降、これらの派生形のモデルが多く生まれたが、互換性のないフレームワークがつかわれていた。\n",
        "- これをTransformersのリリースにより、50以上のアーキテクチャが統一されたAPIが構築\n",
        "- これらが研究者に伝わり使用されるようになっている"
      ]
    },
    {
      "cell_type": "markdown",
      "metadata": {
        "id": "jO_mUXHZrwjc"
      },
      "source": [
        "## 1.4 入門Hugging Face Transformers\n",
        "\n",
        "- Transformerモデルの標準化されたインターフェースを提供\n",
        "- PyTorch、TensorFlow、JAXをサポートしており、簡単に切り替えが可能\n",
        "- 更にタスクに特化したヘッドを提供しており、様々な下流タスクにtuningができる。\n",
        "  - テキスト分類\n",
        "  - 固有表現認識\n",
        "  - 質問応答"
      ]
    },
    {
      "cell_type": "markdown",
      "metadata": {
        "id": "rfK1azQ5rwjd"
      },
      "source": [
        "## 1.5 Transformer の応用を巡る旅\n",
        "\n",
        "- セットアップする。"
      ]
    },
    {
      "cell_type": "code",
      "source": [
        "# Uncomment and run this cell if you're on Colab or Kaggle\n",
        "!git clone https://github.com/nlp-with-transformers/notebooks.git\n",
        "%cd notebooks\n",
        "from install import *\n",
        "install_requirements()"
      ],
      "metadata": {
        "id": "xcDPt4DJsNvj",
        "outputId": "e2c2e618-9e4a-48a7-b8e1-bf1f1fe09c3d",
        "colab": {
          "base_uri": "https://localhost:8080/"
        }
      },
      "execution_count": 1,
      "outputs": [
        {
          "output_type": "stream",
          "name": "stdout",
          "text": [
            "fatal: destination path 'notebooks' already exists and is not an empty directory.\n",
            "/content/notebooks\n",
            "⏳ Installing base requirements ...\n",
            "✅ Base requirements installed!\n",
            "⏳ Installing Git LFS ...\n",
            "✅ Git LFS installed!\n"
          ]
        }
      ]
    },
    {
      "cell_type": "code",
      "source": [
        "#hide\n",
        "from utils import *\n",
        "setup_chapter()"
      ],
      "metadata": {
        "id": "Ddc4VDzcs0KO",
        "outputId": "def46841-7efc-4acd-fe1c-3a87a6d02c93",
        "colab": {
          "base_uri": "https://localhost:8080/"
        }
      },
      "execution_count": 2,
      "outputs": [
        {
          "output_type": "stream",
          "name": "stdout",
          "text": [
            "Using transformers v4.11.3\n",
            "Using datasets v1.16.1\n"
          ]
        }
      ]
    },
    {
      "cell_type": "markdown",
      "source": [
        "- サンプル入力は以下。"
      ],
      "metadata": {
        "id": "h1Hw_TyjsJiE"
      }
    },
    {
      "cell_type": "code",
      "execution_count": 3,
      "metadata": {
        "id": "LaOVFC9lrwjd"
      },
      "outputs": [],
      "source": [
        "text = \"\"\"Dear Amazon, last week I ordered an Optimus Prime action figure\n",
        "from your online store in Germany. Unfortunately, when I opened the package,\n",
        "I discovered to my horror that I had been sent an action figure of Megatron\n",
        "instead! As a lifelong enemy of the Decepticons, I hope you can understand my\n",
        "dilemma. To resolve the issue, I demand an exchange of Megatron for the\n",
        "Optimus Prime figure I ordered. Enclosed are copies of my records concerning\n",
        "this purchase. I expect to hear from you soon. Sincerely, Bumblebee.\"\"\""
      ]
    },
    {
      "cell_type": "markdown",
      "metadata": {
        "id": "sHa-v0OXrwje"
      },
      "source": [
        "### 1.5.1 テキスト分類\n",
        "\n",
        "- pipelineを使い必要なステップを抽象化することができる\n",
        "- `text-classification`パイプラインは、デフォルトではセンチメント分類用に設計されたモデルを使用するが、マルチクラス、マルチラベルの分類もサポートしている。"
      ]
    },
    {
      "cell_type": "code",
      "execution_count": 4,
      "metadata": {
        "id": "Y7fUQKuXrwjf"
      },
      "outputs": [],
      "source": [
        "from transformers import pipeline\n",
        "\n",
        "classifier = pipeline(\"text-classification\")"
      ]
    },
    {
      "cell_type": "markdown",
      "metadata": {
        "id": "kIrq2wHcrwjf"
      },
      "source": [
        "- ネガティブ・ポジティブを分類できる。"
      ]
    },
    {
      "cell_type": "code",
      "execution_count": 5,
      "metadata": {
        "id": "0Bb_t5WOrwjg",
        "outputId": "0485b616-c0a8-4829-ae7d-b91d59a4c528",
        "colab": {
          "base_uri": "https://localhost:8080/",
          "height": 81
        }
      },
      "outputs": [
        {
          "output_type": "execute_result",
          "data": {
            "text/plain": [
              "      label     score\n",
              "0  NEGATIVE  0.901546"
            ],
            "text/html": [
              "\n",
              "  <div id=\"df-9e0e66aa-cdbe-47e2-a008-1689c1016354\">\n",
              "    <div class=\"colab-df-container\">\n",
              "      <div>\n",
              "<style scoped>\n",
              "    .dataframe tbody tr th:only-of-type {\n",
              "        vertical-align: middle;\n",
              "    }\n",
              "\n",
              "    .dataframe tbody tr th {\n",
              "        vertical-align: top;\n",
              "    }\n",
              "\n",
              "    .dataframe thead th {\n",
              "        text-align: right;\n",
              "    }\n",
              "</style>\n",
              "<table border=\"1\" class=\"dataframe\">\n",
              "  <thead>\n",
              "    <tr style=\"text-align: right;\">\n",
              "      <th></th>\n",
              "      <th>label</th>\n",
              "      <th>score</th>\n",
              "    </tr>\n",
              "  </thead>\n",
              "  <tbody>\n",
              "    <tr>\n",
              "      <th>0</th>\n",
              "      <td>NEGATIVE</td>\n",
              "      <td>0.901546</td>\n",
              "    </tr>\n",
              "  </tbody>\n",
              "</table>\n",
              "</div>\n",
              "      <button class=\"colab-df-convert\" onclick=\"convertToInteractive('df-9e0e66aa-cdbe-47e2-a008-1689c1016354')\"\n",
              "              title=\"Convert this dataframe to an interactive table.\"\n",
              "              style=\"display:none;\">\n",
              "        \n",
              "  <svg xmlns=\"http://www.w3.org/2000/svg\" height=\"24px\"viewBox=\"0 0 24 24\"\n",
              "       width=\"24px\">\n",
              "    <path d=\"M0 0h24v24H0V0z\" fill=\"none\"/>\n",
              "    <path d=\"M18.56 5.44l.94 2.06.94-2.06 2.06-.94-2.06-.94-.94-2.06-.94 2.06-2.06.94zm-11 1L8.5 8.5l.94-2.06 2.06-.94-2.06-.94L8.5 2.5l-.94 2.06-2.06.94zm10 10l.94 2.06.94-2.06 2.06-.94-2.06-.94-.94-2.06-.94 2.06-2.06.94z\"/><path d=\"M17.41 7.96l-1.37-1.37c-.4-.4-.92-.59-1.43-.59-.52 0-1.04.2-1.43.59L10.3 9.45l-7.72 7.72c-.78.78-.78 2.05 0 2.83L4 21.41c.39.39.9.59 1.41.59.51 0 1.02-.2 1.41-.59l7.78-7.78 2.81-2.81c.8-.78.8-2.07 0-2.86zM5.41 20L4 18.59l7.72-7.72 1.47 1.35L5.41 20z\"/>\n",
              "  </svg>\n",
              "      </button>\n",
              "      \n",
              "  <style>\n",
              "    .colab-df-container {\n",
              "      display:flex;\n",
              "      flex-wrap:wrap;\n",
              "      gap: 12px;\n",
              "    }\n",
              "\n",
              "    .colab-df-convert {\n",
              "      background-color: #E8F0FE;\n",
              "      border: none;\n",
              "      border-radius: 50%;\n",
              "      cursor: pointer;\n",
              "      display: none;\n",
              "      fill: #1967D2;\n",
              "      height: 32px;\n",
              "      padding: 0 0 0 0;\n",
              "      width: 32px;\n",
              "    }\n",
              "\n",
              "    .colab-df-convert:hover {\n",
              "      background-color: #E2EBFA;\n",
              "      box-shadow: 0px 1px 2px rgba(60, 64, 67, 0.3), 0px 1px 3px 1px rgba(60, 64, 67, 0.15);\n",
              "      fill: #174EA6;\n",
              "    }\n",
              "\n",
              "    [theme=dark] .colab-df-convert {\n",
              "      background-color: #3B4455;\n",
              "      fill: #D2E3FC;\n",
              "    }\n",
              "\n",
              "    [theme=dark] .colab-df-convert:hover {\n",
              "      background-color: #434B5C;\n",
              "      box-shadow: 0px 1px 3px 1px rgba(0, 0, 0, 0.15);\n",
              "      filter: drop-shadow(0px 1px 2px rgba(0, 0, 0, 0.3));\n",
              "      fill: #FFFFFF;\n",
              "    }\n",
              "  </style>\n",
              "\n",
              "      <script>\n",
              "        const buttonEl =\n",
              "          document.querySelector('#df-9e0e66aa-cdbe-47e2-a008-1689c1016354 button.colab-df-convert');\n",
              "        buttonEl.style.display =\n",
              "          google.colab.kernel.accessAllowed ? 'block' : 'none';\n",
              "\n",
              "        async function convertToInteractive(key) {\n",
              "          const element = document.querySelector('#df-9e0e66aa-cdbe-47e2-a008-1689c1016354');\n",
              "          const dataTable =\n",
              "            await google.colab.kernel.invokeFunction('convertToInteractive',\n",
              "                                                     [key], {});\n",
              "          if (!dataTable) return;\n",
              "\n",
              "          const docLinkHtml = 'Like what you see? Visit the ' +\n",
              "            '<a target=\"_blank\" href=https://colab.research.google.com/notebooks/data_table.ipynb>data table notebook</a>'\n",
              "            + ' to learn more about interactive tables.';\n",
              "          element.innerHTML = '';\n",
              "          dataTable['output_type'] = 'display_data';\n",
              "          await google.colab.output.renderOutput(dataTable, element);\n",
              "          const docLink = document.createElement('div');\n",
              "          docLink.innerHTML = docLinkHtml;\n",
              "          element.appendChild(docLink);\n",
              "        }\n",
              "      </script>\n",
              "    </div>\n",
              "  </div>\n",
              "  "
            ]
          },
          "metadata": {},
          "execution_count": 5
        }
      ],
      "source": [
        "import pandas as pd\n",
        "\n",
        "outputs = classifier(text)\n",
        "pd.DataFrame(outputs)"
      ]
    },
    {
      "cell_type": "markdown",
      "metadata": {
        "id": "EOqAx81nrwjg"
      },
      "source": [
        "### 1.5.2 固有表現認識\n",
        "\n",
        "- 固有表現認識(named entity recognition:NER)\n",
        "- aggregation_strategyは、複数単語をグルーピングする際のルールのようなもの。\n",
        "- スコアはどの程度確信をもっていたかどうかを表します。"
      ]
    },
    {
      "cell_type": "code",
      "execution_count": 6,
      "metadata": {
        "id": "Mple55AVrwjg",
        "outputId": "ce6ea56c-52cd-4316-be16-3a3aa8d3af97",
        "colab": {
          "base_uri": "https://localhost:8080/",
          "height": 363
        }
      },
      "outputs": [
        {
          "output_type": "execute_result",
          "data": {
            "text/plain": [
              "  entity_group     score           word  start  end\n",
              "0          ORG  0.879010         Amazon      5   11\n",
              "1         MISC  0.990859  Optimus Prime     36   49\n",
              "2          LOC  0.999755        Germany     90   97\n",
              "3         MISC  0.556571           Mega    208  212\n",
              "4          PER  0.590256         ##tron    212  216\n",
              "5          ORG  0.669692         Decept    253  259\n",
              "6         MISC  0.498349        ##icons    259  264\n",
              "7         MISC  0.775363       Megatron    350  358\n",
              "8         MISC  0.987854  Optimus Prime    367  380\n",
              "9          PER  0.812096      Bumblebee    502  511"
            ],
            "text/html": [
              "\n",
              "  <div id=\"df-fa8fd02f-dbbd-4330-a949-f366bc4c5520\">\n",
              "    <div class=\"colab-df-container\">\n",
              "      <div>\n",
              "<style scoped>\n",
              "    .dataframe tbody tr th:only-of-type {\n",
              "        vertical-align: middle;\n",
              "    }\n",
              "\n",
              "    .dataframe tbody tr th {\n",
              "        vertical-align: top;\n",
              "    }\n",
              "\n",
              "    .dataframe thead th {\n",
              "        text-align: right;\n",
              "    }\n",
              "</style>\n",
              "<table border=\"1\" class=\"dataframe\">\n",
              "  <thead>\n",
              "    <tr style=\"text-align: right;\">\n",
              "      <th></th>\n",
              "      <th>entity_group</th>\n",
              "      <th>score</th>\n",
              "      <th>word</th>\n",
              "      <th>start</th>\n",
              "      <th>end</th>\n",
              "    </tr>\n",
              "  </thead>\n",
              "  <tbody>\n",
              "    <tr>\n",
              "      <th>0</th>\n",
              "      <td>ORG</td>\n",
              "      <td>0.879010</td>\n",
              "      <td>Amazon</td>\n",
              "      <td>5</td>\n",
              "      <td>11</td>\n",
              "    </tr>\n",
              "    <tr>\n",
              "      <th>1</th>\n",
              "      <td>MISC</td>\n",
              "      <td>0.990859</td>\n",
              "      <td>Optimus Prime</td>\n",
              "      <td>36</td>\n",
              "      <td>49</td>\n",
              "    </tr>\n",
              "    <tr>\n",
              "      <th>2</th>\n",
              "      <td>LOC</td>\n",
              "      <td>0.999755</td>\n",
              "      <td>Germany</td>\n",
              "      <td>90</td>\n",
              "      <td>97</td>\n",
              "    </tr>\n",
              "    <tr>\n",
              "      <th>3</th>\n",
              "      <td>MISC</td>\n",
              "      <td>0.556571</td>\n",
              "      <td>Mega</td>\n",
              "      <td>208</td>\n",
              "      <td>212</td>\n",
              "    </tr>\n",
              "    <tr>\n",
              "      <th>4</th>\n",
              "      <td>PER</td>\n",
              "      <td>0.590256</td>\n",
              "      <td>##tron</td>\n",
              "      <td>212</td>\n",
              "      <td>216</td>\n",
              "    </tr>\n",
              "    <tr>\n",
              "      <th>5</th>\n",
              "      <td>ORG</td>\n",
              "      <td>0.669692</td>\n",
              "      <td>Decept</td>\n",
              "      <td>253</td>\n",
              "      <td>259</td>\n",
              "    </tr>\n",
              "    <tr>\n",
              "      <th>6</th>\n",
              "      <td>MISC</td>\n",
              "      <td>0.498349</td>\n",
              "      <td>##icons</td>\n",
              "      <td>259</td>\n",
              "      <td>264</td>\n",
              "    </tr>\n",
              "    <tr>\n",
              "      <th>7</th>\n",
              "      <td>MISC</td>\n",
              "      <td>0.775363</td>\n",
              "      <td>Megatron</td>\n",
              "      <td>350</td>\n",
              "      <td>358</td>\n",
              "    </tr>\n",
              "    <tr>\n",
              "      <th>8</th>\n",
              "      <td>MISC</td>\n",
              "      <td>0.987854</td>\n",
              "      <td>Optimus Prime</td>\n",
              "      <td>367</td>\n",
              "      <td>380</td>\n",
              "    </tr>\n",
              "    <tr>\n",
              "      <th>9</th>\n",
              "      <td>PER</td>\n",
              "      <td>0.812096</td>\n",
              "      <td>Bumblebee</td>\n",
              "      <td>502</td>\n",
              "      <td>511</td>\n",
              "    </tr>\n",
              "  </tbody>\n",
              "</table>\n",
              "</div>\n",
              "      <button class=\"colab-df-convert\" onclick=\"convertToInteractive('df-fa8fd02f-dbbd-4330-a949-f366bc4c5520')\"\n",
              "              title=\"Convert this dataframe to an interactive table.\"\n",
              "              style=\"display:none;\">\n",
              "        \n",
              "  <svg xmlns=\"http://www.w3.org/2000/svg\" height=\"24px\"viewBox=\"0 0 24 24\"\n",
              "       width=\"24px\">\n",
              "    <path d=\"M0 0h24v24H0V0z\" fill=\"none\"/>\n",
              "    <path d=\"M18.56 5.44l.94 2.06.94-2.06 2.06-.94-2.06-.94-.94-2.06-.94 2.06-2.06.94zm-11 1L8.5 8.5l.94-2.06 2.06-.94-2.06-.94L8.5 2.5l-.94 2.06-2.06.94zm10 10l.94 2.06.94-2.06 2.06-.94-2.06-.94-.94-2.06-.94 2.06-2.06.94z\"/><path d=\"M17.41 7.96l-1.37-1.37c-.4-.4-.92-.59-1.43-.59-.52 0-1.04.2-1.43.59L10.3 9.45l-7.72 7.72c-.78.78-.78 2.05 0 2.83L4 21.41c.39.39.9.59 1.41.59.51 0 1.02-.2 1.41-.59l7.78-7.78 2.81-2.81c.8-.78.8-2.07 0-2.86zM5.41 20L4 18.59l7.72-7.72 1.47 1.35L5.41 20z\"/>\n",
              "  </svg>\n",
              "      </button>\n",
              "      \n",
              "  <style>\n",
              "    .colab-df-container {\n",
              "      display:flex;\n",
              "      flex-wrap:wrap;\n",
              "      gap: 12px;\n",
              "    }\n",
              "\n",
              "    .colab-df-convert {\n",
              "      background-color: #E8F0FE;\n",
              "      border: none;\n",
              "      border-radius: 50%;\n",
              "      cursor: pointer;\n",
              "      display: none;\n",
              "      fill: #1967D2;\n",
              "      height: 32px;\n",
              "      padding: 0 0 0 0;\n",
              "      width: 32px;\n",
              "    }\n",
              "\n",
              "    .colab-df-convert:hover {\n",
              "      background-color: #E2EBFA;\n",
              "      box-shadow: 0px 1px 2px rgba(60, 64, 67, 0.3), 0px 1px 3px 1px rgba(60, 64, 67, 0.15);\n",
              "      fill: #174EA6;\n",
              "    }\n",
              "\n",
              "    [theme=dark] .colab-df-convert {\n",
              "      background-color: #3B4455;\n",
              "      fill: #D2E3FC;\n",
              "    }\n",
              "\n",
              "    [theme=dark] .colab-df-convert:hover {\n",
              "      background-color: #434B5C;\n",
              "      box-shadow: 0px 1px 3px 1px rgba(0, 0, 0, 0.15);\n",
              "      filter: drop-shadow(0px 1px 2px rgba(0, 0, 0, 0.3));\n",
              "      fill: #FFFFFF;\n",
              "    }\n",
              "  </style>\n",
              "\n",
              "      <script>\n",
              "        const buttonEl =\n",
              "          document.querySelector('#df-fa8fd02f-dbbd-4330-a949-f366bc4c5520 button.colab-df-convert');\n",
              "        buttonEl.style.display =\n",
              "          google.colab.kernel.accessAllowed ? 'block' : 'none';\n",
              "\n",
              "        async function convertToInteractive(key) {\n",
              "          const element = document.querySelector('#df-fa8fd02f-dbbd-4330-a949-f366bc4c5520');\n",
              "          const dataTable =\n",
              "            await google.colab.kernel.invokeFunction('convertToInteractive',\n",
              "                                                     [key], {});\n",
              "          if (!dataTable) return;\n",
              "\n",
              "          const docLinkHtml = 'Like what you see? Visit the ' +\n",
              "            '<a target=\"_blank\" href=https://colab.research.google.com/notebooks/data_table.ipynb>data table notebook</a>'\n",
              "            + ' to learn more about interactive tables.';\n",
              "          element.innerHTML = '';\n",
              "          dataTable['output_type'] = 'display_data';\n",
              "          await google.colab.output.renderOutput(dataTable, element);\n",
              "          const docLink = document.createElement('div');\n",
              "          docLink.innerHTML = docLinkHtml;\n",
              "          element.appendChild(docLink);\n",
              "        }\n",
              "      </script>\n",
              "    </div>\n",
              "  </div>\n",
              "  "
            ]
          },
          "metadata": {},
          "execution_count": 6
        }
      ],
      "source": [
        "ner_tagger = pipeline(\"ner\", aggregation_strategy=\"simple\")\n",
        "outputs = ner_tagger(text)\n",
        "pd.DataFrame(outputs)"
      ]
    },
    {
      "cell_type": "markdown",
      "metadata": {
        "id": "dCLsSfUErwjg"
      },
      "source": [
        "- `##`はtokenizerが単語をトークンに分割した結果として表れる。\n",
        "- start, endを使って`text[start:end]`とすることで単語を得ることもできる。"
      ]
    },
    {
      "cell_type": "code",
      "source": [
        "text[212:216]"
      ],
      "metadata": {
        "id": "yO24xHOm8dA7",
        "outputId": "c6b71fc3-9a2a-48dc-fa99-9f39196ddab6",
        "colab": {
          "base_uri": "https://localhost:8080/",
          "height": 36
        }
      },
      "execution_count": 7,
      "outputs": [
        {
          "output_type": "execute_result",
          "data": {
            "text/plain": [
              "'tron'"
            ],
            "application/vnd.google.colaboratory.intrinsic+json": {
              "type": "string"
            }
          },
          "metadata": {},
          "execution_count": 7
        }
      ]
    },
    {
      "cell_type": "markdown",
      "metadata": {
        "id": "VRoIEj3Yrwjh"
      },
      "source": [
        "### 1.5.3 質問応答\n",
        "\n",
        "- contextがtextとなり、それに対するquestionを与えると、answerを出力する。"
      ]
    },
    {
      "cell_type": "code",
      "execution_count": 8,
      "metadata": {
        "id": "nY9DSwe6rwjh",
        "outputId": "331f108d-3e91-4245-d585-7b4d98968dd9",
        "colab": {
          "base_uri": "https://localhost:8080/",
          "height": 81
        }
      },
      "outputs": [
        {
          "output_type": "execute_result",
          "data": {
            "text/plain": [
              "      score  start  end                   answer\n",
              "0  0.631292    335  358  an exchange of Megatron"
            ],
            "text/html": [
              "\n",
              "  <div id=\"df-c5f224e3-d2ec-4710-a081-34c7c7f93a45\">\n",
              "    <div class=\"colab-df-container\">\n",
              "      <div>\n",
              "<style scoped>\n",
              "    .dataframe tbody tr th:only-of-type {\n",
              "        vertical-align: middle;\n",
              "    }\n",
              "\n",
              "    .dataframe tbody tr th {\n",
              "        vertical-align: top;\n",
              "    }\n",
              "\n",
              "    .dataframe thead th {\n",
              "        text-align: right;\n",
              "    }\n",
              "</style>\n",
              "<table border=\"1\" class=\"dataframe\">\n",
              "  <thead>\n",
              "    <tr style=\"text-align: right;\">\n",
              "      <th></th>\n",
              "      <th>score</th>\n",
              "      <th>start</th>\n",
              "      <th>end</th>\n",
              "      <th>answer</th>\n",
              "    </tr>\n",
              "  </thead>\n",
              "  <tbody>\n",
              "    <tr>\n",
              "      <th>0</th>\n",
              "      <td>0.631292</td>\n",
              "      <td>335</td>\n",
              "      <td>358</td>\n",
              "      <td>an exchange of Megatron</td>\n",
              "    </tr>\n",
              "  </tbody>\n",
              "</table>\n",
              "</div>\n",
              "      <button class=\"colab-df-convert\" onclick=\"convertToInteractive('df-c5f224e3-d2ec-4710-a081-34c7c7f93a45')\"\n",
              "              title=\"Convert this dataframe to an interactive table.\"\n",
              "              style=\"display:none;\">\n",
              "        \n",
              "  <svg xmlns=\"http://www.w3.org/2000/svg\" height=\"24px\"viewBox=\"0 0 24 24\"\n",
              "       width=\"24px\">\n",
              "    <path d=\"M0 0h24v24H0V0z\" fill=\"none\"/>\n",
              "    <path d=\"M18.56 5.44l.94 2.06.94-2.06 2.06-.94-2.06-.94-.94-2.06-.94 2.06-2.06.94zm-11 1L8.5 8.5l.94-2.06 2.06-.94-2.06-.94L8.5 2.5l-.94 2.06-2.06.94zm10 10l.94 2.06.94-2.06 2.06-.94-2.06-.94-.94-2.06-.94 2.06-2.06.94z\"/><path d=\"M17.41 7.96l-1.37-1.37c-.4-.4-.92-.59-1.43-.59-.52 0-1.04.2-1.43.59L10.3 9.45l-7.72 7.72c-.78.78-.78 2.05 0 2.83L4 21.41c.39.39.9.59 1.41.59.51 0 1.02-.2 1.41-.59l7.78-7.78 2.81-2.81c.8-.78.8-2.07 0-2.86zM5.41 20L4 18.59l7.72-7.72 1.47 1.35L5.41 20z\"/>\n",
              "  </svg>\n",
              "      </button>\n",
              "      \n",
              "  <style>\n",
              "    .colab-df-container {\n",
              "      display:flex;\n",
              "      flex-wrap:wrap;\n",
              "      gap: 12px;\n",
              "    }\n",
              "\n",
              "    .colab-df-convert {\n",
              "      background-color: #E8F0FE;\n",
              "      border: none;\n",
              "      border-radius: 50%;\n",
              "      cursor: pointer;\n",
              "      display: none;\n",
              "      fill: #1967D2;\n",
              "      height: 32px;\n",
              "      padding: 0 0 0 0;\n",
              "      width: 32px;\n",
              "    }\n",
              "\n",
              "    .colab-df-convert:hover {\n",
              "      background-color: #E2EBFA;\n",
              "      box-shadow: 0px 1px 2px rgba(60, 64, 67, 0.3), 0px 1px 3px 1px rgba(60, 64, 67, 0.15);\n",
              "      fill: #174EA6;\n",
              "    }\n",
              "\n",
              "    [theme=dark] .colab-df-convert {\n",
              "      background-color: #3B4455;\n",
              "      fill: #D2E3FC;\n",
              "    }\n",
              "\n",
              "    [theme=dark] .colab-df-convert:hover {\n",
              "      background-color: #434B5C;\n",
              "      box-shadow: 0px 1px 3px 1px rgba(0, 0, 0, 0.15);\n",
              "      filter: drop-shadow(0px 1px 2px rgba(0, 0, 0, 0.3));\n",
              "      fill: #FFFFFF;\n",
              "    }\n",
              "  </style>\n",
              "\n",
              "      <script>\n",
              "        const buttonEl =\n",
              "          document.querySelector('#df-c5f224e3-d2ec-4710-a081-34c7c7f93a45 button.colab-df-convert');\n",
              "        buttonEl.style.display =\n",
              "          google.colab.kernel.accessAllowed ? 'block' : 'none';\n",
              "\n",
              "        async function convertToInteractive(key) {\n",
              "          const element = document.querySelector('#df-c5f224e3-d2ec-4710-a081-34c7c7f93a45');\n",
              "          const dataTable =\n",
              "            await google.colab.kernel.invokeFunction('convertToInteractive',\n",
              "                                                     [key], {});\n",
              "          if (!dataTable) return;\n",
              "\n",
              "          const docLinkHtml = 'Like what you see? Visit the ' +\n",
              "            '<a target=\"_blank\" href=https://colab.research.google.com/notebooks/data_table.ipynb>data table notebook</a>'\n",
              "            + ' to learn more about interactive tables.';\n",
              "          element.innerHTML = '';\n",
              "          dataTable['output_type'] = 'display_data';\n",
              "          await google.colab.output.renderOutput(dataTable, element);\n",
              "          const docLink = document.createElement('div');\n",
              "          docLink.innerHTML = docLinkHtml;\n",
              "          element.appendChild(docLink);\n",
              "        }\n",
              "      </script>\n",
              "    </div>\n",
              "  </div>\n",
              "  "
            ]
          },
          "metadata": {},
          "execution_count": 8
        }
      ],
      "source": [
        "reader = pipeline(\"question-answering\")\n",
        "\n",
        "question = \"What does the customer want?\" # 顧客は何を求めていますか？\n",
        "outputs = reader(question=question, context=text)\n",
        "pd.DataFrame([outputs])"
      ]
    },
    {
      "cell_type": "markdown",
      "metadata": {
        "id": "kEabfKWyrwjh"
      },
      "source": [
        "- この出力は、textから特定の部分を抽出しており、抽出型質問応答と呼ばれます。\n",
        "- start,endは抽出箇所を示しているので、以下のようにして取得することもできます。"
      ]
    },
    {
      "cell_type": "code",
      "source": [
        "text[335:358]"
      ],
      "metadata": {
        "id": "jyQra_i48zL9",
        "outputId": "3fe45a60-10bd-4cbc-e0e5-f7a45b59cc43",
        "colab": {
          "base_uri": "https://localhost:8080/",
          "height": 36
        }
      },
      "execution_count": 9,
      "outputs": [
        {
          "output_type": "execute_result",
          "data": {
            "text/plain": [
              "'an exchange of Megatron'"
            ],
            "application/vnd.google.colaboratory.intrinsic+json": {
              "type": "string"
            }
          },
          "metadata": {},
          "execution_count": 9
        }
      ]
    },
    {
      "cell_type": "markdown",
      "source": [
        "- 質問応答には、抽出型以外にも様々な種類があります（詳細は第７章にて）"
      ],
      "metadata": {
        "id": "cXQOHZjG8yw8"
      }
    },
    {
      "cell_type": "markdown",
      "metadata": {
        "id": "jl-wYy2Jrwjh"
      },
      "source": [
        "### 1.5.4 要約\n",
        "\n",
        "- 今までのタスクより困難なタスク\n",
        "- 矛盾しない文章の生成が必要\n",
        "- summarizerにいくつかの引数を渡している"
      ]
    },
    {
      "cell_type": "code",
      "execution_count": 10,
      "metadata": {
        "id": "od9qu9Kfrwji",
        "outputId": "bf866a02-113d-4c19-aa7c-127f2e711aa7",
        "colab": {
          "base_uri": "https://localhost:8080/"
        }
      },
      "outputs": [
        {
          "output_type": "stream",
          "name": "stdout",
          "text": [
            " Bumblebee ordered an Optimus Prime action figure from your online store in\n",
            "Germany. Unfortunately, when I opened the package, I discovered to my horror\n",
            "that I had been sent an action figure of Megatron instead.\n"
          ]
        }
      ],
      "source": [
        "summarizer = pipeline(\"summarization\")\n",
        "\n",
        "outputs = summarizer(text, max_length=45, clean_up_tokenization_spaces=True)\n",
        "print(outputs[0][\"summary_text\"])"
      ]
    },
    {
      "cell_type": "markdown",
      "metadata": {
        "id": "YYnr8KyYrwji"
      },
      "source": [
        "### 1.5.5 翻訳\n",
        "\n",
        "- 要約と同様に翻訳された文章を出力する\n",
        "- Hugging Face Hubには数千言語のペアに対するもでるがある\n",
        "- pipelineやtranslatorに引数を指定している"
      ]
    },
    {
      "cell_type": "code",
      "execution_count": 11,
      "metadata": {
        "id": "iHaapdJ0rwji",
        "outputId": "f6935dae-7c5c-40e3-c39c-f98b8eb4d93f",
        "colab": {
          "base_uri": "https://localhost:8080/"
        }
      },
      "outputs": [
        {
          "output_type": "stream",
          "name": "stdout",
          "text": [
            "Sehr geehrter Amazon, letzte Woche habe ich eine Optimus Prime Action Figur aus\n",
            "Ihrem Online-Shop in Deutschland bestellt. Leider, als ich das Paket öffnete,\n",
            "entdeckte ich zu meinem Entsetzen, dass ich stattdessen eine Action Figur von\n",
            "Megatron geschickt worden war! Als lebenslanger Feind der Decepticons, Ich\n",
            "hoffe, Sie können mein Dilemma verstehen. Um das Problem zu lösen, Ich fordere\n",
            "einen Austausch von Megatron für die Optimus Prime Figur habe ich bestellt.\n",
            "Anbei sind Kopien meiner Aufzeichnungen über diesen Kauf. Ich erwarte, bald von\n",
            "Ihnen zu hören. Aufrichtig, Bumblebee.\n"
          ]
        }
      ],
      "source": [
        "translator = pipeline(\"translation_en_to_de\", model=\"Helsinki-NLP/opus-mt-en-de\")\n",
        "\n",
        "outputs = translator(text, clean_up_tokenization_spaces=True, min_length=100)\n",
        "print(outputs[0]['translation_text'])"
      ]
    },
    {
      "cell_type": "markdown",
      "metadata": {
        "id": "aRZVlEJkrwji"
      },
      "source": [
        "### 1.5.6 テキスト生成\n",
        "\n",
        "- 自動補完機能のようなもの"
      ]
    },
    {
      "cell_type": "code",
      "execution_count": 12,
      "metadata": {
        "id": "4EdYIcI4rwji",
        "outputId": "4dbb6941-5c36-492c-df33-5e9d5a613346",
        "colab": {
          "base_uri": "https://localhost:8080/"
        }
      },
      "outputs": [
        {
          "output_type": "stream",
          "name": "stdout",
          "text": [
            "Dear Amazon, last week I ordered an Optimus Prime action figure\n",
            "from your online store in Germany. Unfortunately, when I opened the package,\n",
            "I discovered to my horror that I had been sent an action figure of Megatron\n",
            "instead! As a lifelong enemy of the Decepticons, I hope you can understand my\n",
            "dilemma. To resolve the issue, I demand an exchange of Megatron for the\n",
            "Optimus Prime figure I ordered. Enclosed are copies of my records concerning\n",
            "this purchase. I expect to hear from you soon. Sincerely, Bumblebee.\n",
            "\n",
            "Customer service response:\n",
            "Dear Bumblebee, I am sorry to hear that your order was mixed up. The order\n",
            "\n",
            "at my local store was filled very poorly by our customer service team. You made\n",
            "our\n",
            "\n",
            "ordering process much harder for us, and our team will no longer be with us to\n",
            "do this. Thank you in advance for your support.\n",
            "\n",
            "If you would like to\n"
          ]
        }
      ],
      "source": [
        "from transformers import set_seed\n",
        "set_seed(42) # 生成はランダム性を持つため、シードを設定する。\n",
        "\n",
        "generator = pipeline(\"text-generation\")\n",
        "\n",
        "response = \"Dear Bumblebee, I am sorry to hear that your order was mixed up.\"\n",
        "prompt = text + \"\\n\\nCustomer service response:\\n\" + response\n",
        "\n",
        "outputs = generator(prompt, max_length=200)\n",
        "print(outputs[0]['generated_text'])"
      ]
    },
    {
      "cell_type": "markdown",
      "metadata": {
        "id": "2XHT0Os3rwjj"
      },
      "source": [
        "## 1.6 Hugging Face のエコシステム\n",
        "\n",
        "- 最初はTransformersのみだけでしたが、その後ライブラリやツールが追加されたエコシステム全体に成長している\n",
        "- Hubで学習済みモデルやデータセット、評価指標のためのスクリプトを提供\n",
        "- ライブラリは様々なコードを提供する\n",
        "\n",
        "![](https://github.com/nokomoro3/book-ml-transformers/blob/main/img/ml-transformers-chap01-introduction_2022-08-28-13-14-48.png?raw=1)"
      ]
    },
    {
      "cell_type": "markdown",
      "source": [
        "### 1.6.1 Hugging Face Hub\n",
        "\n",
        "- 20,000以上のモデルを自由に利用可能\n",
        "- 利用する場合、pipelineを使って利用する\n",
        "- モデルやデータセットの内容について説明するカードがある\n",
        "- 画面上でwidgetをつかって直接試すことも可能\n",
        "- PyTorchやTensorFlowでも独自のHubが提供されており、Hugging Faceで利用できないものがある場合はそちらもチェックすることが推奨される"
      ],
      "metadata": {
        "id": "lEaA2-Xu7hd9"
      }
    },
    {
      "cell_type": "markdown",
      "source": [
        "### 1.6.2 Hugging Face Tokenizers\n",
        "\n",
        "- 生テキストをトークン化により分割するステップがある\n",
        "- トークンは様々な単位がありうるが、単語、単語の一部や句読点などの文字と理解すればよい。\n",
        "- Tokenizersは多数のトークン化戦略を提供しており、Rust実装により非常に高速な動作が可能。\n",
        "- 入力の正規化やフォーマットの変換などの事前、事後処理も行うことができる。"
      ],
      "metadata": {
        "id": "JWLsDe7n7nLE"
      }
    },
    {
      "cell_type": "markdown",
      "source": [
        "### 1.6.3 Hugging Face Datasets\n",
        "\n",
        "- データセットの読み込みは一般的に面倒なプロセスとなる\n",
        "- 特にデータセットが大きい場合、非常に困難となる\n",
        "- Datasetsを使うことで、標準的なインターフェースや、キャッシュ機能、メモリマッピングによるメモリ制限の回避なども機能として使用することが可能です。\n",
        "- Datasetsは、PandasやNumPyとも相互運用が可能\n",
        "- Datasetsはそのデータを評価するスクリプトも提供し、実験の再現性と結果の信頼性も高めます"
      ],
      "metadata": {
        "id": "C3ak4AuB7pgD"
      }
    },
    {
      "cell_type": "markdown",
      "source": [
        "### 1.6.4 Hugging Face Accelerate\n",
        "\n",
        "- クラスタ上で学習を移植可能にするため、学習ループに抽象化されたレイヤを提供します\n",
        "- Transformerをゼロから学習する必要がある場合などに必要となります。"
      ],
      "metadata": {
        "id": "X_GU0F3z7qzl"
      }
    },
    {
      "cell_type": "markdown",
      "metadata": {
        "id": "R6Js4w4Lrwjj"
      },
      "source": [
        "## 1.7 Transformer の主な課題\n",
        "\n",
        "- 言語\n",
        "  - 多くの研究が英語を対象にしていおり、希少な言語の学習済みモデルを見つけることが簡単ではない。\n",
        "  - 『４章：多言語の固有表現認識』では、多言語Transformerとそのゼロショットによる言語間遷移について検討する\n",
        "- データの可用性\n",
        "  - 転移学習を使うことでラベル付きデータの量を大幅に削減できるが、人間と比較するとまだまだ多くのデータが必要\n",
        "  - 『９章：ラベルのないまたは少ない状況への対応方法』では、ラベルがほとんどないようなシナリオに取り組みます\n",
        "- 長い文章の処理\n",
        "  - Self-Attentionはparagraph単位のテキストではうまく機能しますが、文書全体のような長いテキストは計算量が非常に多くなる\n",
        "  - 『１１章：Transformerの未来』では計算量を軽減するためのアプローチを説明します\n",
        "- 透明性\n",
        "  - 他のDeep Learningモデルと同様に、解釈性が低いことがTransformerでも欠点\n",
        "  - 『２章：テキスト分類』と『４章：多言語の固有表現認識』でモデルのエラーを探る方法を何点か紹介します\n",
        "- バイアス\n",
        "  - Transformerはインターネット上のデータを使って事前学習されるため、バイアスがモデルに刷り込まれます。\n",
        "  - この問題については『１０章：Transformerをゼロから学習する』で詳しく説明します"
      ]
    },
    {
      "cell_type": "markdown",
      "metadata": {
        "id": "wiaZ3XdBrwjj"
      },
      "source": [
        "## 1.8 まとめ\n",
        "\n",
        "- 本章ではわずかなコードで実行が可能でしたが、これはほんの一部\n",
        "- 以降でより詳しく学んでいく"
      ]
    }
  ],
  "metadata": {
    "colab": {
      "provenance": [],
      "toc_visible": true,
      "include_colab_link": true
    },
    "kernelspec": {
      "display_name": "Python 3.9.7 64-bit ('3.9.7')",
      "language": "python",
      "name": "python3"
    },
    "language_info": {
      "name": "python",
      "version": "3.9.7"
    },
    "orig_nbformat": 4,
    "vscode": {
      "interpreter": {
        "hash": "3949dca9ef5ee3d00faebebd640170151a9deedee36f4a22f588f089137dbd92"
      }
    },
    "accelerator": "GPU",
    "gpuClass": "standard"
  },
  "nbformat": 4,
  "nbformat_minor": 0
}